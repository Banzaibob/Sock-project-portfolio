{
 "cells": [
  {
   "cell_type": "code",
   "execution_count": 1,
   "id": "403a0cc2-4c2d-4573-bdd1-6aad73d95e49",
   "metadata": {},
   "outputs": [],
   "source": [
    "%matplotlib inline\n",
    "import matplotlib.pyplot as plt\n",
    "import matplotlib.image as mpimg\n",
    "import cv2\n",
    "import numpy as np\n",
    "import sys,os"
   ]
  },
  {
   "cell_type": "code",
   "execution_count": 2,
   "id": "e5818cfd-8442-4749-b386-1e8153f8c0c8",
   "metadata": {},
   "outputs": [],
   "source": [
    "def display_img(img, gray=False):\n",
    "    '''\n",
    "    img = input image or image like array in rgb format\n",
    "    gray = bool for displaying a grayscale image\n",
    "    '''\n",
    "    plt.axis('off')\n",
    "    if(gray):\n",
    "        plt.imshow(img, cmap='gray', vmin=0, vmax=255)\n",
    "    else:\n",
    "        plt.imshow(img)\n",
    "    plt.show()"
   ]
  },
  {
   "cell_type": "markdown",
   "id": "c6f7566c-091e-4370-9941-2aed1e016b07",
   "metadata": {
    "tags": []
   },
   "source": [
    "<h1> Load video and check total number of frames"
   ]
  },
  {
   "cell_type": "code",
   "execution_count": 3,
   "id": "7a452bda-0978-4184-8bad-b9f4ef4517a0",
   "metadata": {},
   "outputs": [],
   "source": [
    "cap = cv2.VideoCapture('basketball.avi')\n",
    "length = int(cap.get(cv2.CAP_PROP_FRAME_COUNT))"
   ]
  },
  {
   "cell_type": "code",
   "execution_count": 4,
   "id": "ec278763-dfa6-4395-85ce-c5a468513c33",
   "metadata": {},
   "outputs": [
    {
     "data": {
      "text/plain": [
       "725"
      ]
     },
     "execution_count": 4,
     "metadata": {},
     "output_type": "execute_result"
    }
   ],
   "source": [
    "length"
   ]
  },
  {
   "cell_type": "markdown",
   "id": "75cff257-cff2-41a3-a1a3-64b81161a1da",
   "metadata": {},
   "source": [
    "<h1> Define functions"
   ]
  },
  {
   "cell_type": "code",
   "execution_count": 5,
   "id": "10a9f356-e9db-4a4a-a7c0-9567ab67b909",
   "metadata": {},
   "outputs": [],
   "source": [
    "def get_frame(frame_num):\n",
    "    cap.set(1,frame_num)\n",
    "    ret, frame = cap.read()\n",
    "    if ret:\n",
    "        return frame\n",
    "    else:\n",
    "        return False"
   ]
  },
  {
   "cell_type": "code",
   "execution_count": 6,
   "id": "875c52c0-70b9-4e7d-9ce6-d5c0ab1750f8",
   "metadata": {},
   "outputs": [],
   "source": [
    "def get_batch_keyframe(cap, batchsize, batch_num, beta = 0.5):\n",
    "    '''\n",
    "    Takes:\n",
    "        cap - video capture\n",
    "        batchsize - batchsize\n",
    "        batch_num - current batch number\n",
    "        beta - beta value\n",
    "    Returns:\n",
    "        Array of keyframes in a batch\n",
    "    '''\n",
    "    index = 0\n",
    "    D = []\n",
    "    keyframe = []\n",
    "    while(index < batchsize-1):\n",
    "        frame_num = batchsize * batch_num + index\n",
    "        \n",
    "        curframe_gray = cv2.cvtColor(get_frame(frame_num), cv2.COLOR_BGR2GRAY)\n",
    "        nextframe_gray = cv2.cvtColor(get_frame(frame_num+1), cv2.COLOR_BGR2GRAY)\n",
    "\n",
    "        D.append(( curframe_gray != nextframe_gray ).sum()/float(curframe_gray.size))\n",
    "\n",
    "        t = np.mean(D) + beta * np.std(D)\n",
    "        if(D[index] > t):\n",
    "            keyframe.append((frame_num))\n",
    "\n",
    "        #print(index, D[index], t)\n",
    "\n",
    "        index += 1\n",
    "        \n",
    "    #print(keyframe)\n",
    "    return keyframe"
   ]
  },
  {
   "cell_type": "code",
   "execution_count": 7,
   "id": "e90319ab-4c20-4cd2-8cd9-976d9d97e10f",
   "metadata": {},
   "outputs": [],
   "source": [
    "def get_keyframes(cap, batchsize, num_batches):\n",
    "    keyframes = []\n",
    "    \n",
    "    for batch in range(int(num_batches)):\n",
    "        keys = get_batch_keyframe(cap, batchsize, batch)\n",
    "        for items in keys:\n",
    "            keyframes.append(items)\n",
    "            \n",
    "    return keyframes\n",
    "    "
   ]
  },
  {
   "cell_type": "markdown",
   "id": "a0ca4842-b12f-4b69-96cf-970f76de4726",
   "metadata": {},
   "source": [
    "<h1> Retrieve the keyframes for batch sizes of 29, 145 and 725"
   ]
  },
  {
   "cell_type": "code",
   "execution_count": 8,
   "id": "45e41ba2-16cb-4bcf-a5a0-5a41cadb7f78",
   "metadata": {},
   "outputs": [
    {
     "name": "stdout",
     "output_type": "stream",
     "text": [
      "[1, 2, 3, 15, 27, 30, 33, 34, 35, 37, 39, 51, 63, 75, 83, 85, 95, 97, 98, 99, 111, 118, 119, 120, 121, 123, 134, 135, 146, 147, 158, 159, 171, 183, 195, 204, 207, 219, 233, 234, 235, 238, 239, 240, 241, 242, 243, 246, 247, 248, 249, 250, 251, 252, 253, 254, 255, 257, 258, 259, 262, 264, 265, 266, 267, 279, 291, 303, 315, 317, 322, 325, 326, 327, 331, 332, 333, 339, 349, 350, 351, 361, 363, 367, 375, 380, 381, 383, 384, 386, 387, 399, 407, 409, 410, 411, 423, 430, 431, 433, 447, 459, 465, 466, 467, 469, 471, 483, 489, 490, 491, 494, 495, 507, 519, 523, 528, 531, 543, 549, 552, 553, 555, 567, 572, 573, 574, 575, 576, 577, 578, 581, 582, 583, 591, 603, 611, 615, 622, 623, 624, 625, 626, 627, 628, 629, 630, 631, 632, 633, 634, 635, 636, 639, 645, 646, 647, 648, 649, 661, 668, 673, 676, 677, 689, 697, 698, 699, 711, 723]\n"
     ]
    }
   ],
   "source": [
    "keyframes_29 = get_keyframes(cap, 29, length/29)\n",
    "print(keyframes_29)"
   ]
  },
  {
   "cell_type": "code",
   "execution_count": 9,
   "id": "60247c94-760f-4901-bc17-233e98f073d6",
   "metadata": {},
   "outputs": [
    {
     "name": "stdout",
     "output_type": "stream",
     "text": [
      "[1, 2, 3, 15, 27, 39, 51, 63, 75, 87, 93, 95, 96, 97, 98, 99, 101, 102, 103, 104, 105, 111, 119, 120, 121, 123, 130, 131, 133, 134, 135, 138, 139, 140, 141, 142, 146, 147, 158, 159, 171, 183, 195, 207, 219, 231, 243, 248, 250, 251, 252, 253, 254, 255, 257, 258, 259, 260, 261, 262, 263, 264, 265, 266, 267, 269, 270, 271, 272, 273, 274, 275, 276, 277, 278, 279, 291, 303, 315, 317, 318, 319, 325, 327, 329, 330, 331, 332, 333, 334, 339, 351, 363, 375, 387, 399, 411, 423, 447, 459, 471, 483, 490, 491, 492, 493, 494, 495, 499, 500, 501, 502, 503, 504, 505, 506, 507, 519, 531, 543, 555, 567, 573, 574, 575, 576, 577, 578, 581, 582, 583, 591, 603, 615, 625, 626, 627, 628, 629, 630, 631, 632, 633, 634, 635, 636, 637, 638, 639, 641, 642, 643, 644, 645, 646, 647, 648, 649, 650, 651, 652, 653, 654, 655, 656, 657, 658, 659, 660, 661, 662, 663, 664, 665, 666, 667, 668, 673, 676, 677, 689, 698, 699, 711, 723]\n"
     ]
    }
   ],
   "source": [
    "keyframes_145 = get_keyframes(cap, 145 , length/145)\n",
    "print(keyframes_145)"
   ]
  },
  {
   "cell_type": "code",
   "execution_count": 10,
   "id": "c10f64ca-0a42-45cf-becc-582be04f86e9",
   "metadata": {},
   "outputs": [
    {
     "name": "stdout",
     "output_type": "stream",
     "text": [
      "[1, 2, 3, 15, 27, 39, 51, 63, 75, 87, 93, 95, 96, 97, 98, 99, 101, 102, 103, 104, 105, 111, 119, 120, 121, 123, 130, 131, 133, 134, 135, 138, 139, 140, 141, 142, 144, 145, 146, 147, 150, 153, 154, 155, 158, 159, 163, 165, 166, 168, 170, 171, 183, 195, 207, 219, 231, 243, 251, 252, 253, 254, 255, 257, 258, 259, 260, 261, 262, 263, 264, 265, 266, 267, 269, 270, 271, 272, 273, 274, 275, 276, 277, 278, 279, 285, 287, 291, 303, 315, 327, 339, 351, 363, 375, 387, 399, 411, 423, 435, 447, 459, 471, 483, 490, 491, 492, 493, 494, 495, 499, 500, 501, 502, 503, 504, 505, 506, 507, 519, 531, 543, 555, 567, 573, 576, 578, 579, 581, 582, 583, 591, 603, 615, 625, 626, 627, 629, 630, 631, 632, 633, 634, 635, 636, 637, 638, 639, 641, 642, 643, 644, 645, 646, 647, 648, 649, 650, 651, 652, 653, 654, 655, 656, 657, 658, 659, 660, 661, 662, 663, 664, 665, 666, 667, 668, 669, 670, 671, 672, 673, 675, 676, 677, 689, 698, 699, 711, 723]\n"
     ]
    }
   ],
   "source": [
    "keyframes_725 = get_keyframes(cap, 725, length/725)\n",
    "print(keyframes_725)"
   ]
  },
  {
   "cell_type": "markdown",
   "id": "31f7267e-2a31-4939-8e18-45e0ee88f691",
   "metadata": {},
   "source": [
    "<h2> Comparing results"
   ]
  },
  {
   "cell_type": "code",
   "execution_count": 11,
   "id": "b9efc725-ba79-4ff2-968a-5325e8d91ab3",
   "metadata": {},
   "outputs": [
    {
     "name": "stdout",
     "output_type": "stream",
     "text": [
      "170 185 189\n"
     ]
    }
   ],
   "source": [
    "print(len(keyframes_29), len(keyframes_145),len(keyframes_725))"
   ]
  },
  {
   "cell_type": "markdown",
   "id": "bc54333b-6d43-4fd3-b83a-151b3a1ce0c4",
   "metadata": {},
   "source": [
    "<h1> Retrieve at 30fps"
   ]
  },
  {
   "cell_type": "code",
   "execution_count": 12,
   "id": "c51a3367-05b3-43b8-8ada-cfb2c31d7b5f",
   "metadata": {},
   "outputs": [],
   "source": [
    "out = cv2.VideoWriter('keys_at_30.avi',cv2.VideoWriter_fourcc(*'DIVX'), 30, (432, 576))\n",
    "\n",
    "for key in keyframes_145:\n",
    "    img = get_frame(key)\n",
    "    out.write(img)"
   ]
  },
  {
   "cell_type": "markdown",
   "id": "d7a233e6-c0f8-4913-806d-f8214bd3b806",
   "metadata": {},
   "source": [
    "<h2> Release memory"
   ]
  },
  {
   "cell_type": "code",
   "execution_count": 13,
   "id": "e31dc9a0-644f-4d97-bc3a-b286ff91f946",
   "metadata": {},
   "outputs": [],
   "source": [
    "cap.release()\n",
    "out.release()"
   ]
  },
  {
   "cell_type": "code",
   "execution_count": null,
   "id": "f41ad3bf-bdac-4e02-a3d8-f60dbc3dab6f",
   "metadata": {},
   "outputs": [],
   "source": []
  }
 ],
 "metadata": {
  "kernelspec": {
   "display_name": "Python 3 (ipykernel)",
   "language": "python",
   "name": "python3"
  },
  "language_info": {
   "codemirror_mode": {
    "name": "ipython",
    "version": 3
   },
   "file_extension": ".py",
   "mimetype": "text/x-python",
   "name": "python",
   "nbconvert_exporter": "python",
   "pygments_lexer": "ipython3",
   "version": "3.8.11"
  },
  "toc-autonumbering": true
 },
 "nbformat": 4,
 "nbformat_minor": 5
}
