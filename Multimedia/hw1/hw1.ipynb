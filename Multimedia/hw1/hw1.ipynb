{
 "cells": [
  {
   "cell_type": "markdown",
   "metadata": {},
   "source": [
    "### Sam Ockunzzi\n",
    "2697186"
   ]
  },
  {
   "cell_type": "code",
   "execution_count": 1,
   "metadata": {},
   "outputs": [],
   "source": [
    "import numpy as np\n",
    "%config Completer.use_jedi = False"
   ]
  },
  {
   "cell_type": "code",
   "execution_count": 2,
   "metadata": {},
   "outputs": [],
   "source": [
    "array = [[0,3,2,5,4,7,6,9,8],\n",
    "        [3,0,1,2,3,4,5,6,7],\n",
    "        [2,1,0,3,2,5,4,7,6],\n",
    "        [5,2,3,0,1,2,3,4,5],\n",
    "        [4,3,2,1,0,3,2,5,4],\n",
    "        [7,4,5,2,3,0,1,2,3],\n",
    "        [6,5,4,3,2,1,0,3,2],\n",
    "        [9,6,7,4,5,2,3,0,1],\n",
    "        [8,7,6,5,4,3,2,1,0]]"
   ]
  },
  {
   "cell_type": "markdown",
   "metadata": {},
   "source": [
    "## Pt1 Encode array:"
   ]
  },
  {
   "cell_type": "code",
   "execution_count": 3,
   "metadata": {
    "tags": []
   },
   "outputs": [],
   "source": [
    "def encode_arr(array):\n",
    "    '''\n",
    "    Takes an array and returns encoded array\n",
    "    '''\n",
    "    #Take array, pad with 0's then slide window over array and save frames to array.\n",
    "    array_pad=np.pad(array,pad_width=1)\n",
    "    array_windows=np.lib.stride_tricks.sliding_window_view(array_pad,(3,3))\n",
    "    #Init empty array for storage\n",
    "    encoded_arr=[]\n",
    "    for row_windows in array_windows:\n",
    "        encoded_row=[]\n",
    "        for window in row_windows:\n",
    "            #subtract center element from all elements in window and check if greater than 0, then swap bool for int.\n",
    "            bool_window=(window - window[1,1]) >= 0\n",
    "            bool_window=bool_window.astype(int)\n",
    "            \n",
    "            #Append window elements in specific order to build binary code.\n",
    "            x=[]\n",
    "            x.append(str(bool_window[2,2]))\n",
    "            x.append(str(bool_window[2,1]))\n",
    "            x.append(str(bool_window[2,0]))\n",
    "            x.append(str(bool_window[1,0]))\n",
    "            x.append(str(bool_window[0,0]))\n",
    "            x.append(str(bool_window[0,1]))\n",
    "            x.append(str(bool_window[0,2]))\n",
    "            x.append(str(bool_window[1,2]))\n",
    "            #take binary code, translate to int and append to new array for return.\n",
    "            y=''.join(str(element) for element in x)\n",
    "            encoded_row.append(int(y, 2))\n",
    "            \n",
    "        encoded_arr.append(encoded_row)\n",
    "    return encoded_arr"
   ]
  },
  {
   "cell_type": "code",
   "execution_count": 4,
   "metadata": {
    "tags": []
   },
   "outputs": [],
   "source": [
    "pt1_return_arr = encode_arr(array)"
   ]
  },
  {
   "cell_type": "code",
   "execution_count": 5,
   "metadata": {},
   "outputs": [
    {
     "name": "stdout",
     "output_type": "stream",
     "text": [
      "Shape of array:  (9, 9) \n",
      "Array Data:\n"
     ]
    },
    {
     "data": {
      "text/plain": [
       "[[255, 32, 145, 0, 145, 0, 145, 0, 16],\n",
       " [2, 255, 175, 207, 175, 207, 175, 207, 44],\n",
       " [196, 250, 255, 34, 159, 2, 159, 2, 28],\n",
       " [0, 249, 34, 255, 175, 207, 175, 207, 44],\n",
       " [196, 250, 252, 250, 255, 34, 159, 2, 28],\n",
       " [0, 249, 32, 249, 34, 255, 175, 207, 44],\n",
       " [196, 250, 252, 250, 252, 250, 255, 34, 28],\n",
       " [0, 249, 32, 249, 32, 249, 34, 255, 44],\n",
       " [4, 26, 28, 26, 28, 26, 28, 26, 255]]"
      ]
     },
     "execution_count": 5,
     "metadata": {},
     "output_type": "execute_result"
    }
   ],
   "source": [
    "print('Shape of array: ',np.shape(pt1_return_arr),'\\nArray Data:')\n",
    "pt1_return_arr"
   ]
  },
  {
   "cell_type": "markdown",
   "metadata": {},
   "source": [
    "## Pt2 Encode random array of data of any size:"
   ]
  },
  {
   "cell_type": "markdown",
   "metadata": {},
   "source": [
    "#### Set size and random data"
   ]
  },
  {
   "cell_type": "code",
   "execution_count": 6,
   "metadata": {},
   "outputs": [],
   "source": [
    "arr_size=(9, 9)"
   ]
  },
  {
   "cell_type": "code",
   "execution_count": 7,
   "metadata": {},
   "outputs": [],
   "source": [
    "random_array = np.random.randint(10, size=arr_size)"
   ]
  },
  {
   "cell_type": "code",
   "execution_count": 8,
   "metadata": {},
   "outputs": [
    {
     "data": {
      "text/plain": [
       "array([[0, 6, 6, 2, 5, 9, 7, 5, 2],\n",
       "       [3, 7, 9, 5, 1, 3, 8, 3, 6],\n",
       "       [4, 9, 0, 1, 7, 2, 4, 3, 0],\n",
       "       [1, 6, 3, 2, 9, 9, 2, 1, 3],\n",
       "       [3, 6, 5, 1, 6, 1, 1, 4, 8],\n",
       "       [1, 1, 7, 0, 8, 9, 9, 5, 1],\n",
       "       [8, 5, 0, 1, 4, 1, 7, 2, 9],\n",
       "       [8, 4, 0, 3, 5, 4, 2, 6, 6],\n",
       "       [3, 3, 4, 3, 8, 1, 6, 5, 2]])"
      ]
     },
     "execution_count": 8,
     "metadata": {},
     "output_type": "execute_result"
    }
   ],
   "source": [
    "random_array"
   ]
  },
  {
   "cell_type": "code",
   "execution_count": 9,
   "metadata": {},
   "outputs": [],
   "source": [
    "pt2_return_arr = encode_arr(random_array)"
   ]
  },
  {
   "cell_type": "code",
   "execution_count": 10,
   "metadata": {},
   "outputs": [
    {
     "name": "stdout",
     "output_type": "stream",
     "text": [
      "Shape of array:  (9, 9) \n",
      "Array Data:\n"
     ]
    },
    {
     "data": {
      "text/plain": [
       "[[255, 193, 112, 113, 33, 0, 80, 176, 112],\n",
       " [195, 65, 32, 154, 255, 175, 8, 125, 0],\n",
       " [131, 2, 255, 239, 192, 247, 36, 158, 255],\n",
       " [199, 68, 120, 179, 1, 16, 158, 253, 104],\n",
       " [3, 132, 88, 191, 198, 255, 255, 97, 0],\n",
       " [199, 127, 0, 255, 1, 1, 16, 178, 124],\n",
       " [64, 50, 255, 203, 198, 255, 12, 253, 0],\n",
       " [4, 156, 255, 227, 64, 186, 215, 43, 20],\n",
       " [7, 29, 8, 23, 0, 31, 2, 22, 28]]"
      ]
     },
     "execution_count": 10,
     "metadata": {},
     "output_type": "execute_result"
    }
   ],
   "source": [
    "print('Shape of array: ',np.shape(pt2_return_arr),'\\nArray Data:')\n",
    "pt2_return_arr"
   ]
  }
 ],
 "metadata": {
  "kernelspec": {
   "display_name": "Python 3 (ipykernel)",
   "language": "python",
   "name": "python3"
  },
  "language_info": {
   "codemirror_mode": {
    "name": "ipython",
    "version": 3
   },
   "file_extension": ".py",
   "mimetype": "text/x-python",
   "name": "python",
   "nbconvert_exporter": "python",
   "pygments_lexer": "ipython3",
   "version": "3.8.11"
  }
 },
 "nbformat": 4,
 "nbformat_minor": 4
}
